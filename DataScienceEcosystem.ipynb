{
  "metadata": {
    "kernelspec": {
      "name": "python",
      "display_name": "Python (Pyodide)",
      "language": "python"
    },
    "language_info": {
      "codemirror_mode": {
        "name": "python",
        "version": 3
      },
      "file_extension": ".py",
      "mimetype": "text/x-python",
      "name": "python",
      "nbconvert_exporter": "python",
      "pygments_lexer": "ipython3",
      "version": "3.8"
    }
  },
  "nbformat_minor": 4,
  "nbformat": 4,
  "cells": [
    {
      "cell_type": "markdown",
      "source": "# Data Science Tools and Ecosystem\n",
      "metadata": {}
    },
    {
      "cell_type": "markdown",
      "source": "In this notebook, Data Science Tools and Ecosystems are summarized.",
      "metadata": {}
    },
    {
      "cell_type": "markdown",
      "source": "### **Common Data Science Languages:**\n1. Python\n2. R\n3. Julia\n4. Scala\n5. C\n6. C++",
      "metadata": {}
    },
    {
      "cell_type": "markdown",
      "source": "### **Common Libraries used by Data Scientists:**\n1. Pandas\n2. PyTorch\n3. SciPy\n4. TensorFlow\n5. Matplotlib\n6. NumPy",
      "metadata": {}
    },
    {
      "cell_type": "markdown",
      "source": "### **Open Source Data Science Tools:**\n|**Data Science Tools**:|\n|-----------------------|\n|Jupyter Notebooks|\n|R Studios|\n|Zeppelin Notebooks\n\n",
      "metadata": {}
    },
    {
      "cell_type": "markdown",
      "source": "### **Below are examples of evaluating arithmetic expressions in Python:**",
      "metadata": {}
    },
    {
      "cell_type": "code",
      "source": "# This is a simple arithmetic expression to multiple and add intergers:\n\n(3*4)+5\n",
      "metadata": {
        "trusted": true
      },
      "outputs": [
        {
          "execution_count": 4,
          "output_type": "execute_result",
          "data": {
            "text/plain": "17"
          },
          "metadata": {}
        }
      ],
      "execution_count": 4
    },
    {
      "cell_type": "code",
      "source": "# Convert minutes to hours:\n\nminutes_input = 200\nresult_hours = minutes_input / 60\nconvert_minutes_to_hours(minutes_input)\nprint(f\"{minutes_input} minutes is equal to {result_hours} hours.\")",
      "metadata": {
        "trusted": true
      },
      "outputs": [
        {
          "name": "stdout",
          "text": "200 minutes is equal to 3.3333333333333335 hours.\n",
          "output_type": "stream"
        }
      ],
      "execution_count": 22
    },
    {
      "cell_type": "markdown",
      "source": "### **Objectives:**\n* List Common Data Science Languages\n* List Common Libraries used by Data Scientists.\n* List Common Open Source Data Science Decelopment Tools.\n* Demonstrate a basic understanding of Python coding in code cells.\n* Demonstrate a basic understanding of formating text in Python markdown cells.",
      "metadata": {}
    },
    {
      "cell_type": "markdown",
      "source": "## **Author:**\nAaron Ross",
      "metadata": {}
    },
    {
      "cell_type": "code",
      "source": "",
      "metadata": {
        "trusted": true
      },
      "outputs": [],
      "execution_count": null
    }
  ]
}